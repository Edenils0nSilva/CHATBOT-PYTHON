{
 "cells": [
  {
   "cell_type": "code",
   "execution_count": null,
   "metadata": {},
   "outputs": [],
   "source": [
    "#pip install spacy\n",
    "#pip install ChatterBot2"
   ]
  },
  {
   "cell_type": "code",
   "execution_count": null,
   "metadata": {},
   "outputs": [],
   "source": [
    "import chatterbot\n",
    "import time"
   ]
  },
  {
   "cell_type": "code",
   "execution_count": null,
   "metadata": {},
   "outputs": [],
   "source": [
    "from chatterbot import ChatBot\n",
    "from chatterbot.trainers import ListTrainer\n",
    "# isso aqui só precisa para corrigir o bug\n",
    "from spacy.cli import download\n",
    "\n",
    "download(\"en_core_web_sm\")\n",
    "\n",
    "class ENGSM:\n",
    "    ISO_639_1 = 'en_core_web_sm'\n"
   ]
  },
  {
   "cell_type": "code",
   "execution_count": null,
   "metadata": {},
   "outputs": [],
   "source": [
    "chatbot = ChatBot(\"RAMPAGE\", tagger_language=ENGSM)"
   ]
  },
  {
   "cell_type": "code",
   "execution_count": null,
   "metadata": {},
   "outputs": [],
   "source": [
    "conversa =[\n",
    "    \n",
    "\n",
    "\"Boa tarde\",\n",
    "\" Boa tarde! Eu serei seu garçom. O que desejam?\",\n",
    "\" Eu vou querer um bife bem passado.\",\n",
    "\" Ótimo, dois bifes bem passados e dois sucos de laranja. Roberto e Luíza, o que vocês vão querer?\",\n",
    "\" Eu quero uma feijoada e uma cervejinha.\",\n",
    "\" Eu vou querer uma salada de entrada e um peixe assado como prato principal.\",\n",
    "\" E para beber, senhora?\",\n",
    "\" Uma água mineral.\",\n",
    "\" Pois não!\",\n",
    "\" O senhor pode trazer os talheres para nós, por favor?\",\n",
    "\" Claro.\",\n",
    "\" Ah! Também quero um cafezinho depois de comer, mas pode ser pra viagem.\",\n",
    "\" Tudo bem!\",\n",
    "    \n",
    "\n",
    "\n",
    "\" Quanto deu tudo?\",\n",
    "\" Foram 120 reais.\",\n",
    "\" Tudo bem. Roberto, você racha a conta comigo? Obrigado!\",\n",
    "\" De nada e voltem sempre.\",\n",
    "]\n",
    "\n",
    "treino = ListTrainer(chatbot)\n",
    "treino.train(conversa)"
   ]
  },
  {
   "cell_type": "code",
   "execution_count": null,
   "metadata": {},
   "outputs": [],
   "source": [
    "#MANDA UMA MENSAGEM ESPECIFICA DEPENDENDO DA ENTRADA\n",
    "\n",
    "#\"\"\"def pedido(mensagem):\n",
    " #   if mensagem == \"Gostaria de dar uma olhada no cardápio, por favor.\":\n",
    "  #      return \" v:\\nTamanhos:\\nPequeno - R$ 10,00\\nMédio - R$ 15,00\\nGrande - R$ 20,00\"\n",
    "   # else:\n",
    "    #    return\n",
    "   # \"\"\""
   ]
  },
  {
   "cell_type": "code",
   "execution_count": null,
   "metadata": {},
   "outputs": [],
   "source": [
    "while True:\n",
    "    mensagem = (input(\"mande uma mensagem para o bot: \"))\n",
    "    resposta = chatbot.get_response(mensagem)\n",
    "    print(resposta)\n",
    "\n",
    "     # Chamando a função pedido() para verificar se a mensagem corresponde ao pedido do cardápio.\n",
    "    #resultado_pedido = pedido(mensagem)\n",
    "    #print(resultado_pedido)\n",
    "#\"\"\""
   ]
  },
  {
   "cell_type": "code",
   "execution_count": null,
   "metadata": {},
   "outputs": [],
   "source": [
    "#LIMPA O HISTORICO DE CONVERSA DO BANCO DE DADOS\n",
    "\n",
    "chatbot.storage.drop()\n"
   ]
  }
 ],
 "metadata": {
  "language_info": {
   "name": "python"
  },
  "orig_nbformat": 4
 },
 "nbformat": 4,
 "nbformat_minor": 2
}
